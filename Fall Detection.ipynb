{
 "cells": [
  {
   "cell_type": "code",
   "execution_count": null,
   "id": "d1fc261d",
   "metadata": {},
   "outputs": [],
   "source": [
    "import cv2\n",
    "import mediapipe as mp\n",
    "import numpy as np"
   ]
  },
  {
   "cell_type": "markdown",
   "id": "1422ca5a-b3f8-4c58-b948-34e46eb4fd65",
   "metadata": {
    "jp-MarkdownHeadingCollapsed": true
   },
   "source": [
    "# Pose Process"
   ]
  },
  {
   "cell_type": "code",
   "execution_count": null,
   "id": "e8990c4f-44f0-48f3-a2ad-82152126dc7f",
   "metadata": {},
   "outputs": [],
   "source": [
    "mp_drawing = mp.solutions.drawing_utils\n",
    "mp_pose = mp.solutions.pose\n",
    "\n",
    "cap = cv2.VideoCapture(0)\n",
    "\n",
    "# Setup MediaPipe instance\n",
    "with mp_pose.Pose(min_detection_confidence=0.5, min_tracking_confidence=0.5) as pose:\n",
    "    while cap.isOpened():\n",
    "        ret, frame = cap.read()\n",
    "\n",
    "        # Recolor image to RGB\n",
    "        image = cv2.cvtColor(frame, cv2.COLOR_BGR2RGB)\n",
    "        image.flags.writeable = False\n",
    "\n",
    "        # Make detection\n",
    "        results = pose.process(image)\n",
    "\n",
    "        # Recolor back to BGR for OpenCV\n",
    "        image.flags.writeable = True\n",
    "        image = cv2.cvtColor(image, cv2.COLOR_RGB2BGR)\n",
    "\n",
    "        # Render detections\n",
    "        mp_drawing.draw_landmarks(\n",
    "            image,\n",
    "            results.pose_landmarks,\n",
    "            mp_pose.POSE_CONNECTIONS,\n",
    "            mp_drawing.DrawingSpec(color=(245, 117, 66), thickness=2, circle_radius=2),\n",
    "            mp_drawing.DrawingSpec(color=(245, 66, 230), thickness=2, circle_radius=2)\n",
    "        )\n",
    "\n",
    "        cv2.imshow('Operators Monitor', image)\n",
    "\n",
    "        if cv2.waitKey(10) & 0xFF == ord('q'):\n",
    "            break\n",
    "\n",
    "cap.release()\n",
    "cv2.destroyAllWindows()\n"
   ]
  },
  {
   "cell_type": "markdown",
   "id": "17207a53-4e05-48ea-a03a-be81f35f5b89",
   "metadata": {
    "jp-MarkdownHeadingCollapsed": true
   },
   "source": [
    "# Fall Detection"
   ]
  },
  {
   "cell_type": "code",
   "execution_count": null,
   "id": "8c5ec7cf-5672-44fe-8021-23ea66a8d40c",
   "metadata": {},
   "outputs": [],
   "source": [
    "mp_drawing = mp.solutions.drawing_utils\n",
    "mp_pose = mp.solutions.pose\n",
    "\n",
    "cap = cv2.VideoCapture(0)\n",
    "\n",
    "def is_fallen(landmarks):\n",
    "    # Get necessary landmark points\n",
    "    left_shoulder = landmarks[11]\n",
    "    right_shoulder = landmarks[12]\n",
    "    left_hip = landmarks[23]\n",
    "    right_hip = landmarks[24]\n",
    "\n",
    "    # Compute average shoulder and hip Y-coordinates\n",
    "    shoulder_y = (left_shoulder.y + right_shoulder.y) / 2\n",
    "    hip_y = (left_hip.y + right_hip.y) / 2\n",
    "\n",
    "    # Compute angle of body: vertical vs horizontal\n",
    "    shoulder_x = (left_shoulder.x + right_shoulder.x) / 2\n",
    "    hip_x = (left_hip.x + right_hip.x) / 2\n",
    "\n",
    "    angle = np.arctan2(hip_y - shoulder_y, hip_x - shoulder_x) * 180 / np.pi\n",
    "    angle = abs(angle)  # 0 means horizontal, 90 is vertical\n",
    "\n",
    "    # Simple threshold: if angle is too small, body is horizontal → possible fall\n",
    "    if (angle < 45 and hip_y > 0.6) or (angle > 140 and hip_y > 0.6):\n",
    "        return True\n",
    "    return False\n",
    "\n",
    "with mp_pose.Pose(min_detection_confidence=0.5, min_tracking_confidence=0.5) as pose:\n",
    "    while cap.isOpened():\n",
    "        ret, frame = cap.read()\n",
    "        image = cv2.cvtColor(frame, cv2.COLOR_BGR2RGB)\n",
    "        image.flags.writeable = False\n",
    "        results = pose.process(image)\n",
    "\n",
    "        image.flags.writeable = True\n",
    "        image = cv2.cvtColor(image, cv2.COLOR_RGB2BGR)\n",
    "\n",
    "        if results.pose_landmarks:\n",
    "            landmarks = results.pose_landmarks.landmark\n",
    "\n",
    "            if is_fallen(landmarks):\n",
    "                cv2.putText(image, 'FALL DETECTED!', (50, 100),\n",
    "                            cv2.FONT_HERSHEY_SIMPLEX, 2, (0, 0, 255), 4)\n",
    "                \n",
    "            mp_drawing.draw_landmarks(\n",
    "                image,\n",
    "                results.pose_landmarks,\n",
    "                mp_pose.POSE_CONNECTIONS,\n",
    "                mp_drawing.DrawingSpec(color=(245, 117, 66), thickness=2, circle_radius=2),\n",
    "                mp_drawing.DrawingSpec(color=(245, 66, 230), thickness=2, circle_radius=2)\n",
    "            )\n",
    "\n",
    "        cv2.imshow('Operators Monitor', image)\n",
    "\n",
    "        if cv2.waitKey(10) & 0xFF == ord('q'):\n",
    "            break\n",
    "\n",
    "cap.release()\n",
    "cv2.destroyAllWindows()\n"
   ]
  }
 ],
 "metadata": {
  "kernelspec": {
   "display_name": "Python 3",
   "language": "python",
   "name": "python3"
  },
  "language_info": {
   "codemirror_mode": {
    "name": "ipython",
    "version": 3
   },
   "file_extension": ".py",
   "mimetype": "text/x-python",
   "name": "python",
   "nbconvert_exporter": "python",
   "pygments_lexer": "ipython3",
   "version": "3.8.10"
  }
 },
 "nbformat": 4,
 "nbformat_minor": 5
}
